{
 "cells": [
  {
   "cell_type": "code",
   "execution_count": null,
   "id": "eed037b1-cf13-4502-b196-5b4658e25271",
   "metadata": {},
   "outputs": [],
   "source": []
  }
 ],
 "metadata": {
  "kernelspec": {
   "display_name": "",
   "name": ""
  },
  "language_info": {
   "name": ""
  }
 },
 "nbformat": 4,
 "nbformat_minor": 5
}
